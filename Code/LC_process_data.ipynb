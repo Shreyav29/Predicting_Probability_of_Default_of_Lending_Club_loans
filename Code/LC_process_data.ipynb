{
 "cells": [
  {
   "cell_type": "code",
   "execution_count": null,
   "metadata": {},
   "outputs": [],
   "source": []
  },
  {
   "cell_type": "code",
   "execution_count": 1,
   "metadata": {},
   "outputs": [],
   "source": [
    "import pandas as pd\n",
    "import numpy as np \n",
    "from matplotlib import pyplot as plt\n",
    "from pandas.plotting import register_matplotlib_converters\n",
    "register_matplotlib_converters()\n",
    "import seaborn as sns\n",
    "\n",
    "import warnings\n",
    "warnings.filterwarnings('ignore')\n",
    "pd.set_option('display.max_columns', 80)"
   ]
  },
  {
   "cell_type": "code",
   "execution_count": 2,
   "metadata": {},
   "outputs": [],
   "source": [
    "df = pd.read_csv(\"lc_loan.csv\", low_memory=False)\n",
    "df_test = pd.read_csv('test.csv', low_memory = False)\n",
    "usa = pd.read_csv(\"us-state-codes.csv\")\n",
    "\n",
    "df_old= df.copy()\n",
    "df_test_old= df_test.copy()"
   ]
  },
  {
   "cell_type": "code",
   "execution_count": 3,
   "metadata": {},
   "outputs": [],
   "source": [
    "for i in set(df.columns)-set(df_test.columns): \n",
    "    del df[i]"
   ]
  },
  {
   "cell_type": "code",
   "execution_count": 4,
   "metadata": {},
   "outputs": [],
   "source": [
    "#Drop the columns with high nan values \n",
    "none_pct = df.apply(lambda x: sum(x.isnull()))/df.shape[0]\n",
    "high_nan_cols = none_pct[none_pct > 0.5].index\n",
    "df = df.drop(high_nan_cols, axis=1)\n",
    "df_test = df_test.drop(high_nan_cols, axis=1)"
   ]
  },
  {
   "cell_type": "code",
   "execution_count": 5,
   "metadata": {
    "scrolled": true
   },
   "outputs": [
    {
     "data": {
      "text/plain": [
       "((887379, 52), (759338, 52))"
      ]
     },
     "execution_count": 5,
     "metadata": {},
     "output_type": "execute_result"
    }
   ],
   "source": [
    "df.shape, df_test.shape"
   ]
  },
  {
   "cell_type": "code",
   "execution_count": 6,
   "metadata": {},
   "outputs": [],
   "source": [
    "given_features = list(df.columns)\n",
    "req_float_cols = ['int_rate','revol_util','loan_amnt','dti',\n",
    "                 'total_pymnt','installment','annual_inc',\n",
    "                 'revol_util','revol_bal','tot_coll_amt','tot_cur_bal']\n",
    "\n",
    "req_cat_cols = ['term','grade','emp_length','home_ownership',\n",
    "               'acc_now_delinq','inq_last_6mths','delinq_2yrs']\n",
    "\n",
    "all_cols = req_float_cols + req_cat_cols"
   ]
  },
  {
   "cell_type": "code",
   "execution_count": 7,
   "metadata": {},
   "outputs": [],
   "source": [
    "drop_cols = list(set(given_features) - set(all_cols))"
   ]
  },
  {
   "cell_type": "code",
   "execution_count": 8,
   "metadata": {},
   "outputs": [
    {
     "data": {
      "text/plain": [
       "int_rate         True\n",
       "revol_util       True\n",
       "loan_amnt       False\n",
       "dti              True\n",
       "total_pymnt      True\n",
       "installment      True\n",
       "annual_inc       True\n",
       "revol_util       True\n",
       "revol_bal        True\n",
       "tot_coll_amt     True\n",
       "tot_cur_bal      True\n",
       "dtype: bool"
      ]
     },
     "execution_count": 8,
     "metadata": {},
     "output_type": "execute_result"
    }
   ],
   "source": [
    "df[req_float_cols].dtypes == df_test[req_float_cols].dtypes"
   ]
  },
  {
   "cell_type": "code",
   "execution_count": 9,
   "metadata": {},
   "outputs": [],
   "source": [
    "df[req_float_cols] = df[req_float_cols].astype('float')\n",
    "df_test[req_float_cols] = df_test[req_float_cols].astype('float')\n",
    "\n",
    "df[req_cat_cols] = df[req_cat_cols].astype('object')\n",
    "df_test[req_cat_cols] = df_test[req_cat_cols].astype('object')"
   ]
  },
  {
   "cell_type": "code",
   "execution_count": 31,
   "metadata": {},
   "outputs": [
    {
     "data": {
      "text/plain": [
       "['int_rate',\n",
       " 'revol_util',\n",
       " 'loan_amnt',\n",
       " 'dti',\n",
       " 'total_pymnt',\n",
       " 'installment',\n",
       " 'annual_inc',\n",
       " 'revol_util',\n",
       " 'revol_bal',\n",
       " 'tot_coll_amt',\n",
       " 'tot_cur_bal',\n",
       " 'term',\n",
       " 'grade',\n",
       " 'emp_length',\n",
       " 'home_ownership',\n",
       " 'acc_now_delinq',\n",
       " 'inq_last_6mths',\n",
       " 'delinq_2yrs']"
      ]
     },
     "execution_count": 31,
     "metadata": {},
     "output_type": "execute_result"
    }
   ],
   "source": [
    "all_cols"
   ]
  },
  {
   "cell_type": "code",
   "execution_count": 10,
   "metadata": {},
   "outputs": [],
   "source": [
    "# df= df_old.copy()\n",
    "# df_test = df_test_old.copy()"
   ]
  },
  {
   "cell_type": "code",
   "execution_count": 11,
   "metadata": {},
   "outputs": [],
   "source": [
    "df['term'] = np.where(df['term'] ==' 36 months', 36, 60 )\n",
    "df_test['term'] = np.where(df_test['term'] =='36 months', 36, 60 )"
   ]
  },
  {
   "cell_type": "code",
   "execution_count": null,
   "metadata": {},
   "outputs": [],
   "source": []
  },
  {
   "cell_type": "code",
   "execution_count": 12,
   "metadata": {},
   "outputs": [],
   "source": [
    "df.home_ownership = np.where(df.home_ownership == 'NONE', 'OTHER',df.home_ownership)\n",
    "df_test.home_ownership = np.where(df_test.home_ownership == 'NONE', 'OTHER',df_test.home_ownership)"
   ]
  },
  {
   "cell_type": "code",
   "execution_count": 13,
   "metadata": {},
   "outputs": [],
   "source": [
    "df['emp_length'] = np.where(df['emp_length'] == '< 1 year', '<1 year', df['emp_length'] )\n",
    "df['emp_length'] = df['emp_length'].str.split(\" \").str.get(0)\n",
    "\n",
    "df_test['emp_length'] = np.where(df_test['emp_length'] == '< 1 year', '<1 year', df_test['emp_length'] )\n",
    "df_test['emp_length'] = df_test['emp_length'].str.split(\" \").str.get(0)\n",
    "\n",
    "df.emp_length = np.where(df.emp_length == '<1', '0',df.emp_length)\n",
    "df_test.emp_length = np.where(df_test.emp_length == '<1', '0',df_test.emp_length)\n",
    "\n",
    "df.emp_length = df.emp_length.fillna('0')\n",
    "df_test.emp_length = df.emp_length.fillna('0')"
   ]
  },
  {
   "cell_type": "code",
   "execution_count": 14,
   "metadata": {},
   "outputs": [],
   "source": [
    "for col in ['inq_last_6mths','delinq_2yrs','acc_now_delinq']:\n",
    "    df[col] = df[col].astype('float')\n",
    "    df_test[col] = df_test[col].astype('float')\n",
    "\n",
    "    df[col] = np.where(df[col] > 1.0, 2, df[col])\n",
    "    df_test[col] = np.where(df_test[col] > 1.0, 2, df_test[col])"
   ]
  },
  {
   "cell_type": "code",
   "execution_count": null,
   "metadata": {},
   "outputs": [],
   "source": []
  },
  {
   "cell_type": "code",
   "execution_count": 15,
   "metadata": {},
   "outputs": [
    {
     "name": "stdout",
     "output_type": "stream",
     "text": [
      "True\n"
     ]
    }
   ],
   "source": [
    "print(all(df.columns == df_test.columns))"
   ]
  },
  {
   "cell_type": "code",
   "execution_count": 16,
   "metadata": {},
   "outputs": [
    {
     "data": {
      "text/html": [
       "<div>\n",
       "<style scoped>\n",
       "    .dataframe tbody tr th:only-of-type {\n",
       "        vertical-align: middle;\n",
       "    }\n",
       "\n",
       "    .dataframe tbody tr th {\n",
       "        vertical-align: top;\n",
       "    }\n",
       "\n",
       "    .dataframe thead th {\n",
       "        text-align: right;\n",
       "    }\n",
       "</style>\n",
       "<table border=\"1\" class=\"dataframe\">\n",
       "  <thead>\n",
       "    <tr style=\"text-align: right;\">\n",
       "      <th></th>\n",
       "      <th>term</th>\n",
       "      <th>grade</th>\n",
       "      <th>emp_length</th>\n",
       "      <th>home_ownership</th>\n",
       "      <th>acc_now_delinq</th>\n",
       "      <th>inq_last_6mths</th>\n",
       "      <th>delinq_2yrs</th>\n",
       "    </tr>\n",
       "  </thead>\n",
       "  <tbody>\n",
       "    <tr>\n",
       "      <th>0</th>\n",
       "      <td>36</td>\n",
       "      <td>B</td>\n",
       "      <td>10+</td>\n",
       "      <td>RENT</td>\n",
       "      <td>0.0</td>\n",
       "      <td>1.0</td>\n",
       "      <td>0.0</td>\n",
       "    </tr>\n",
       "  </tbody>\n",
       "</table>\n",
       "</div>"
      ],
      "text/plain": [
       "   term grade emp_length home_ownership  acc_now_delinq  inq_last_6mths  \\\n",
       "0    36     B        10+           RENT             0.0             1.0   \n",
       "\n",
       "   delinq_2yrs  \n",
       "0          0.0  "
      ]
     },
     "execution_count": 16,
     "metadata": {},
     "output_type": "execute_result"
    }
   ],
   "source": [
    "df[req_cat_cols].head(1)"
   ]
  },
  {
   "cell_type": "code",
   "execution_count": 17,
   "metadata": {},
   "outputs": [],
   "source": [
    "#One hot encoding \n",
    "def dummy_df(df, todummy_list):\n",
    "    for x in todummy_list:\n",
    "        dummies = pd.get_dummies(df[x], prefix=x, dummy_na=False, drop_first = True)\n",
    "        df = df.drop(x, 1)\n",
    "        df = pd.concat([df, dummies], axis=1)\n",
    "    return df"
   ]
  },
  {
   "cell_type": "code",
   "execution_count": 18,
   "metadata": {},
   "outputs": [],
   "source": [
    "# def run(df,df_test,lst):\n",
    "#     df = dummy_df(df,lst)\n",
    "#     df_test = dummy_df(df_test,lst)\n",
    "    \n",
    "#     return df,df_test\n",
    "    \n",
    "# df,df_test = run(df,df_test,['inq_last_6mths'])\n",
    "# print(all(df.columns == df_test.columns))"
   ]
  },
  {
   "cell_type": "code",
   "execution_count": 19,
   "metadata": {},
   "outputs": [],
   "source": [
    "df = dummy_df(df, req_cat_cols)"
   ]
  },
  {
   "cell_type": "code",
   "execution_count": 20,
   "metadata": {},
   "outputs": [],
   "source": [
    "df_test = dummy_df(df_test, req_cat_cols)"
   ]
  },
  {
   "cell_type": "code",
   "execution_count": 21,
   "metadata": {},
   "outputs": [
    {
     "name": "stdout",
     "output_type": "stream",
     "text": [
      "True\n"
     ]
    }
   ],
   "source": [
    "print(all(df.columns == df_test.columns))"
   ]
  },
  {
   "cell_type": "code",
   "execution_count": null,
   "metadata": {},
   "outputs": [],
   "source": []
  },
  {
   "cell_type": "code",
   "execution_count": 22,
   "metadata": {},
   "outputs": [],
   "source": [
    "df = df.drop(columns = drop_cols)\n",
    "df_test = df_test.drop(columns = drop_cols)"
   ]
  },
  {
   "cell_type": "code",
   "execution_count": 23,
   "metadata": {},
   "outputs": [
    {
     "name": "stdout",
     "output_type": "stream",
     "text": [
      "True\n"
     ]
    }
   ],
   "source": [
    "print(all(df.columns == df_test.columns))"
   ]
  },
  {
   "cell_type": "code",
   "execution_count": 32,
   "metadata": {},
   "outputs": [
    {
     "data": {
      "text/plain": [
       "['int_rate',\n",
       " 'revol_util',\n",
       " 'loan_amnt',\n",
       " 'dti',\n",
       " 'total_pymnt',\n",
       " 'installment',\n",
       " 'annual_inc',\n",
       " 'revol_util',\n",
       " 'revol_bal',\n",
       " 'tot_coll_amt',\n",
       " 'tot_cur_bal',\n",
       " 'term',\n",
       " 'grade',\n",
       " 'emp_length',\n",
       " 'home_ownership',\n",
       " 'acc_now_delinq',\n",
       " 'inq_last_6mths',\n",
       " 'delinq_2yrs']"
      ]
     },
     "execution_count": 32,
     "metadata": {},
     "output_type": "execute_result"
    }
   ],
   "source": [
    "all_cols"
   ]
  },
  {
   "cell_type": "code",
   "execution_count": 33,
   "metadata": {},
   "outputs": [
    {
     "data": {
      "text/plain": [
       "['term',\n",
       " 'grade',\n",
       " 'emp_length',\n",
       " 'home_ownership',\n",
       " 'acc_now_delinq',\n",
       " 'inq_last_6mths',\n",
       " 'delinq_2yrs']"
      ]
     },
     "execution_count": 33,
     "metadata": {},
     "output_type": "execute_result"
    }
   ],
   "source": [
    "req_cat_cols"
   ]
  },
  {
   "cell_type": "code",
   "execution_count": 24,
   "metadata": {},
   "outputs": [],
   "source": [
    "#Adjusting the remaining nan values \n",
    "none_pct = df.apply(lambda x: sum(x.isnull()))/df.shape[0] \n",
    "col_with_nans = none_pct[none_pct > 0].index\n",
    "\n",
    "for i in col_with_nans:\n",
    "    if df[i].dtype == 'O': #If it i an object \n",
    "        df[i].fillna('missing',inplace=True)\n",
    "    else:\n",
    "        df[i].fillna(0,inplace=True)\n",
    "        \n",
    "none_pct = df_test.apply(lambda x: sum(x.isnull()))/df_test.shape[0] \n",
    "col_with_nans = none_pct[none_pct > 0].index\n",
    "\n",
    "for i in col_with_nans:\n",
    "    if df_test[i].dtype == 'O': #If it i an object \n",
    "        df_test[i].fillna('missing',inplace=True)\n",
    "    else:\n",
    "        df_test[i].fillna(0,inplace=True)"
   ]
  },
  {
   "cell_type": "code",
   "execution_count": 25,
   "metadata": {},
   "outputs": [
    {
     "name": "stdout",
     "output_type": "stream",
     "text": [
      "True\n"
     ]
    }
   ],
   "source": [
    "print(all(df.columns == df_test.columns))"
   ]
  },
  {
   "cell_type": "code",
   "execution_count": 26,
   "metadata": {},
   "outputs": [],
   "source": [
    "#Creating a new column \n",
    "df['charge_off'] = np.where((df_old.loan_status == 'Charged Off') |\n",
    "                               (df_old.loan_status == 'Does not meet the credit policy. Status:Charged Off'), 1, 0 )\n",
    "\n",
    "#Creating a new column \n",
    "df_test['charge_off'] = np.where((df_test_old.loan_status == 'Charged Off') |\n",
    "                               (df_test_old.loan_status == 'Does not meet the credit policy. Status:Charged Off'), 1, 0 )"
   ]
  },
  {
   "cell_type": "code",
   "execution_count": 27,
   "metadata": {},
   "outputs": [],
   "source": [
    "df.to_csv(\"train_processed.csv\")\n",
    "df_test.to_csv(\"test_processed.csv\")"
   ]
  },
  {
   "cell_type": "code",
   "execution_count": 28,
   "metadata": {},
   "outputs": [],
   "source": [
    "df1 = pd.read_csv(\"train_processed.csv\", low_memory=False)\n",
    "df_test1 = pd.read_csv('test_processed.csv', low_memory = False)"
   ]
  },
  {
   "cell_type": "code",
   "execution_count": 29,
   "metadata": {},
   "outputs": [
    {
     "data": {
      "text/plain": [
       "Index(['Unnamed: 0', 'loan_amnt', 'int_rate', 'installment', 'annual_inc',\n",
       "       'dti', 'revol_bal', 'revol_util', 'total_pymnt', 'tot_coll_amt',\n",
       "       'tot_cur_bal', 'term_60', 'grade_B', 'grade_C', 'grade_D', 'grade_E',\n",
       "       'grade_F', 'grade_G', 'emp_length_1', 'emp_length_10+', 'emp_length_2',\n",
       "       'emp_length_3', 'emp_length_4', 'emp_length_5', 'emp_length_6',\n",
       "       'emp_length_7', 'emp_length_8', 'emp_length_9',\n",
       "       'home_ownership_MORTGAGE', 'home_ownership_OTHER', 'home_ownership_OWN',\n",
       "       'home_ownership_RENT', 'acc_now_delinq_1.0', 'acc_now_delinq_2.0',\n",
       "       'inq_last_6mths_1.0', 'inq_last_6mths_2.0', 'delinq_2yrs_1.0',\n",
       "       'delinq_2yrs_2.0', 'charge_off'],\n",
       "      dtype='object')"
      ]
     },
     "execution_count": 29,
     "metadata": {},
     "output_type": "execute_result"
    }
   ],
   "source": [
    "df1.columns"
   ]
  },
  {
   "cell_type": "code",
   "execution_count": 30,
   "metadata": {},
   "outputs": [
    {
     "name": "stdout",
     "output_type": "stream",
     "text": [
      "True\n"
     ]
    }
   ],
   "source": [
    "print(all(df1.columns == df_test1.columns))"
   ]
  },
  {
   "cell_type": "code",
   "execution_count": null,
   "metadata": {},
   "outputs": [],
   "source": []
  }
 ],
 "metadata": {
  "kernelspec": {
   "display_name": "Python 3",
   "language": "python",
   "name": "python3"
  },
  "language_info": {
   "codemirror_mode": {
    "name": "ipython",
    "version": 3
   },
   "file_extension": ".py",
   "mimetype": "text/x-python",
   "name": "python",
   "nbconvert_exporter": "python",
   "pygments_lexer": "ipython3",
   "version": "3.7.6"
  }
 },
 "nbformat": 4,
 "nbformat_minor": 2
}
